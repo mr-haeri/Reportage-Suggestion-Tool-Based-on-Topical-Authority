{
  "nbformat": 4,
  "nbformat_minor": 0,
  "metadata": {
    "colab": {
      "provenance": [],
      "authorship_tag": "ABX9TyOy6P5VIBuaRSViNM753nOG",
      "include_colab_link": true
    },
    "kernelspec": {
      "name": "python3",
      "display_name": "Python 3"
    },
    "language_info": {
      "name": "python"
    }
  },
  "cells": [
    {
      "cell_type": "markdown",
      "metadata": {
        "id": "view-in-github",
        "colab_type": "text"
      },
      "source": [
        "<a href=\"https://colab.research.google.com/github/mr-haeri/seo/blob/main/Reportage-Suggestion-Tool.ipynb\" target=\"_parent\"><img src=\"https://colab.research.google.com/assets/colab-badge.svg\" alt=\"Open In Colab\"/></a>"
      ]
    },
    {
      "cell_type": "code",
      "execution_count": null,
      "metadata": {
        "id": "rDdOLr8lR7o1"
      },
      "outputs": [],
      "source": [
        "## Install Necessary Libraries\n",
        "!pip install pandas openpyxl"
      ]
    },
    {
      "cell_type": "code",
      "source": [
        "## Import Libraries and Setup Environment\n",
        "import os\n",
        "import requests\n",
        "import json\n",
        "import re\n",
        "import pandas as pd\n",
        "from urllib.parse import urlparse\n",
        "from concurrent.futures import ThreadPoolExecutor"
      ],
      "metadata": {
        "id": "F8-6Q8iNSepB"
      },
      "execution_count": 4,
      "outputs": []
    },
    {
      "cell_type": "code",
      "source": [
        "## Set API Keys\n",
        "SERPER_API_KEYS = [\n",
        "    'your API keys'  # Replace with your API keys\n",
        "]"
      ],
      "metadata": {
        "id": "ZUUOd0i6SpyN"
      },
      "execution_count": 9,
      "outputs": []
    },
    {
      "cell_type": "code",
      "source": [
        "## Section 4: Define Utility Functions\n",
        "# Function to create safe filenames (removes invalid characters)\n",
        "def safe_filename(name):\n",
        "    return re.sub(r'[<>:\"/\\\\|?*]', '_', name)\n",
        "\n",
        "# Function to read keywords from a text file\n",
        "def read_keywords(file_path):\n",
        "    if not os.path.exists(file_path):\n",
        "        raise FileNotFoundError(f\"The file '{file_path}' does not exist.\")\n",
        "\n",
        "    with open(file_path, 'r', encoding='utf-8') as file:\n",
        "        keywords = [line.strip() for line in file.readlines()]\n",
        "    return keywords\n",
        "\n",
        "# Function to fetch SERP data and save as JSON files\n",
        "def fetch_and_save_serp_data(keywords, gl=\"ir\", autocorrect=True, batch_size=90, output_folder='serp_data'):\n",
        "    if not os.path.exists(output_folder):\n",
        "        os.makedirs(output_folder)\n",
        "\n",
        "    url = \"https://google.serper.dev/search\"\n",
        "    key_index = 0\n",
        "\n",
        "    for i in range(0, len(keywords), batch_size):\n",
        "        batch = keywords[i:i + batch_size]\n",
        "        payload = json.dumps([{\"q\": keyword, \"gl\": gl, \"num\": 50, \"autocorrect\": autocorrect} for keyword in batch])\n",
        "\n",
        "        while key_index < len(SERPER_API_KEYS):\n",
        "            headers = {\n",
        "                'X-API-KEY': SERPER_API_KEYS[key_index],\n",
        "                'Content-Type': 'application/json'\n",
        "            }\n",
        "\n",
        "            try:\n",
        "                response = requests.post(url, headers=headers, data=payload)\n",
        "                if response.status_code == 200:\n",
        "                    serp_responses = response.json()\n",
        "\n",
        "                    for j, keyword in enumerate(batch):\n",
        "                        keyword_data = serp_responses[j]\n",
        "                        filename = safe_filename(keyword) + '.json'\n",
        "                        with open(os.path.join(output_folder, filename), 'w', encoding='utf-8') as f:\n",
        "                            json.dump(keyword_data, f)\n",
        "                    break\n",
        "                else:\n",
        "                    key_index += 1\n",
        "            except requests.exceptions.RequestException as e:\n",
        "                key_index += 1\n",
        "\n",
        "            if key_index == len(SERPER_API_KEYS):\n",
        "                raise Exception(\"All API keys exhausted. Unable to fetch data.\")\n"
      ],
      "metadata": {
        "id": "j69LHjzGSwVL"
      },
      "execution_count": 10,
      "outputs": []
    },
    {
      "cell_type": "code",
      "source": [
        "## Process JSON Files\n",
        "# Function to process JSON files and extract relevant data\n",
        "def process_json_file(filename, urls_to_process, data_folder):\n",
        "    local_results = []\n",
        "    file_path = os.path.join(data_folder, filename)\n",
        "    try:\n",
        "        with open(file_path, 'r', encoding='utf-8') as file:\n",
        "            data = json.load(file)\n",
        "            if \"organic\" in data and \"searchParameters\" in data:\n",
        "                query = data[\"searchParameters\"].get(\"q\", \"\")\n",
        "                for result in data[\"organic\"]:\n",
        "                    link = result[\"link\"]\n",
        "                    domain = urlparse(link).netloc\n",
        "                    if domain in urls_to_process:\n",
        "                        position = result.get(\"position\", \"\")\n",
        "                        title = result.get(\"title\", \"\")\n",
        "                        local_results.append([domain, query, position, title, link])\n",
        "    except Exception as e:\n",
        "        print(f\"Error processing file {filename}: {e}\")\n",
        "\n",
        "    return local_results"
      ],
      "metadata": {
        "id": "UfwTfR5SS3Z1"
      },
      "execution_count": 11,
      "outputs": []
    },
    {
      "cell_type": "code",
      "source": [
        "## Main Workflow\n",
        "from google.colab import files\n",
        "\n",
        "# Upload keywords file\n",
        "print(\"Please upload your keywords.txt file.\")\n",
        "keywords_file = files.upload()\n",
        "\n",
        "# Upload URLs list file\n",
        "print(\"Please upload your urls_list.xlsx file.\")\n",
        "urls_file = files.upload()\n",
        "\n",
        "# Read keywords and URLs\n",
        "keywords = read_keywords(next(iter(keywords_file.keys())))\n",
        "urls_df = pd.read_excel(next(iter(urls_file.keys())))\n",
        "urls_to_process = urls_df['URLs'].tolist()\n",
        "\n",
        "# Fetch and save SERP data\n",
        "fetch_and_save_serp_data(keywords, output_folder='serp_data')\n",
        "\n",
        "# Process JSON files\n",
        "data_folder = 'serp_data'\n",
        "results = []\n",
        "\n",
        "with ThreadPoolExecutor(max_workers=20) as executor:\n",
        "    futures = [executor.submit(process_json_file, filename, urls_to_process, data_folder) for filename in os.listdir(data_folder) if filename.endswith('.json')]\n",
        "\n",
        "    for future in futures:\n",
        "        results.extend(future.result())\n",
        "\n",
        "# Save results to Excel\n",
        "output_file = 'domains_queries_with_details.xlsx'\n",
        "df_results = pd.DataFrame(results, columns=[\"Domain\", \"Query\", \"Position\", \"Title\", \"Link\"])\n",
        "df_results.to_excel(output_file, index=False)\n",
        "\n",
        "# Download the results\n",
        "files.download(output_file)"
      ],
      "metadata": {
        "id": "rIqx6O50S8s6"
      },
      "execution_count": null,
      "outputs": []
    }
  ]
}